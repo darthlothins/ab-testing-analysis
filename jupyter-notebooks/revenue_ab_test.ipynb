{
 "cells": [
  {
   "cell_type": "code",
   "execution_count": 1,
   "metadata": {
    "collapsed": true
   },
   "outputs": [],
   "source": [
    "import pandas as pd\n",
    "import matplotlib.pyplot as plt\n",
    "import numpy as np\n",
    "import scipy.stats as stats"
   ]
  },
  {
   "cell_type": "code",
   "execution_count": 2,
   "outputs": [
    {
     "data": {
      "text/plain": "   USER_ID VARIANT_NAME  REVENUE\n0      737      variant      0.0\n1     2423      control      0.0\n2     9411      control      0.0\n3     7311      control      0.0\n4     6174      variant      0.0",
      "text/html": "<div>\n<style scoped>\n    .dataframe tbody tr th:only-of-type {\n        vertical-align: middle;\n    }\n\n    .dataframe tbody tr th {\n        vertical-align: top;\n    }\n\n    .dataframe thead th {\n        text-align: right;\n    }\n</style>\n<table border=\"1\" class=\"dataframe\">\n  <thead>\n    <tr style=\"text-align: right;\">\n      <th></th>\n      <th>USER_ID</th>\n      <th>VARIANT_NAME</th>\n      <th>REVENUE</th>\n    </tr>\n  </thead>\n  <tbody>\n    <tr>\n      <th>0</th>\n      <td>737</td>\n      <td>variant</td>\n      <td>0.0</td>\n    </tr>\n    <tr>\n      <th>1</th>\n      <td>2423</td>\n      <td>control</td>\n      <td>0.0</td>\n    </tr>\n    <tr>\n      <th>2</th>\n      <td>9411</td>\n      <td>control</td>\n      <td>0.0</td>\n    </tr>\n    <tr>\n      <th>3</th>\n      <td>7311</td>\n      <td>control</td>\n      <td>0.0</td>\n    </tr>\n    <tr>\n      <th>4</th>\n      <td>6174</td>\n      <td>variant</td>\n      <td>0.0</td>\n    </tr>\n  </tbody>\n</table>\n</div>"
     },
     "execution_count": 2,
     "metadata": {},
     "output_type": "execute_result"
    }
   ],
   "source": [
    "df = pd.read_csv(\"data/revenue_ab_test.csv\")\n",
    "df.head()"
   ],
   "metadata": {
    "collapsed": false
   }
  },
  {
   "cell_type": "code",
   "execution_count": 3,
   "outputs": [
    {
     "data": {
      "text/plain": "(10000, 3)"
     },
     "execution_count": 3,
     "metadata": {},
     "output_type": "execute_result"
    }
   ],
   "source": [
    "df.shape"
   ],
   "metadata": {
    "collapsed": false
   }
  },
  {
   "cell_type": "code",
   "execution_count": 4,
   "outputs": [
    {
     "data": {
      "text/plain": "USER_ID         6324\nVARIANT_NAME       2\nREVENUE          101\ndtype: int64"
     },
     "execution_count": 4,
     "metadata": {},
     "output_type": "execute_result"
    }
   ],
   "source": [
    "df.nunique()"
   ],
   "metadata": {
    "collapsed": false
   }
  },
  {
   "cell_type": "markdown",
   "source": [
    "With 10,000 entries, we see in this cell that there are only 6,324 unique user ID values. This means that there are multiple entries for certain users in the dataset. First, we aim to combine all of this data under a singular row."
   ],
   "metadata": {
    "collapsed": false
   }
  },
  {
   "cell_type": "code",
   "execution_count": 5,
   "outputs": [
    {
     "data": {
      "text/plain": "USER_ID         0\nVARIANT_NAME    0\nREVENUE         0\ndtype: int64"
     },
     "execution_count": 5,
     "metadata": {},
     "output_type": "execute_result"
    }
   ],
   "source": [
    "df.isnull().sum()"
   ],
   "metadata": {
    "collapsed": false
   }
  },
  {
   "cell_type": "markdown",
   "source": [
    "No null values in the data so we can proceed towards combing through the data."
   ],
   "metadata": {
    "collapsed": false
   }
  },
  {
   "cell_type": "code",
   "execution_count": 6,
   "outputs": [
    {
     "data": {
      "text/plain": "      USER_ID VARIANT_NAME  REVENUE\n2406        2      control      0.0\n3479        2      control      0.0\n7076        2      control      0.0\n7409        3      variant      0.0\n4145        3      variant      0.0\n...       ...          ...      ...\n2998     9996      control      0.0\n1064     9998      control      0.0\n8970    10000      variant      0.0\n8921    10000      control      0.0\n6883    10000      variant      0.0\n\n[10000 rows x 3 columns]",
      "text/html": "<div>\n<style scoped>\n    .dataframe tbody tr th:only-of-type {\n        vertical-align: middle;\n    }\n\n    .dataframe tbody tr th {\n        vertical-align: top;\n    }\n\n    .dataframe thead th {\n        text-align: right;\n    }\n</style>\n<table border=\"1\" class=\"dataframe\">\n  <thead>\n    <tr style=\"text-align: right;\">\n      <th></th>\n      <th>USER_ID</th>\n      <th>VARIANT_NAME</th>\n      <th>REVENUE</th>\n    </tr>\n  </thead>\n  <tbody>\n    <tr>\n      <th>2406</th>\n      <td>2</td>\n      <td>control</td>\n      <td>0.0</td>\n    </tr>\n    <tr>\n      <th>3479</th>\n      <td>2</td>\n      <td>control</td>\n      <td>0.0</td>\n    </tr>\n    <tr>\n      <th>7076</th>\n      <td>2</td>\n      <td>control</td>\n      <td>0.0</td>\n    </tr>\n    <tr>\n      <th>7409</th>\n      <td>3</td>\n      <td>variant</td>\n      <td>0.0</td>\n    </tr>\n    <tr>\n      <th>4145</th>\n      <td>3</td>\n      <td>variant</td>\n      <td>0.0</td>\n    </tr>\n    <tr>\n      <th>...</th>\n      <td>...</td>\n      <td>...</td>\n      <td>...</td>\n    </tr>\n    <tr>\n      <th>2998</th>\n      <td>9996</td>\n      <td>control</td>\n      <td>0.0</td>\n    </tr>\n    <tr>\n      <th>1064</th>\n      <td>9998</td>\n      <td>control</td>\n      <td>0.0</td>\n    </tr>\n    <tr>\n      <th>8970</th>\n      <td>10000</td>\n      <td>variant</td>\n      <td>0.0</td>\n    </tr>\n    <tr>\n      <th>8921</th>\n      <td>10000</td>\n      <td>control</td>\n      <td>0.0</td>\n    </tr>\n    <tr>\n      <th>6883</th>\n      <td>10000</td>\n      <td>variant</td>\n      <td>0.0</td>\n    </tr>\n  </tbody>\n</table>\n<p>10000 rows × 3 columns</p>\n</div>"
     },
     "execution_count": 6,
     "metadata": {},
     "output_type": "execute_result"
    }
   ],
   "source": [
    "df.sort_values(by=['USER_ID'])"
   ],
   "metadata": {
    "collapsed": false
   }
  },
  {
   "cell_type": "markdown",
   "source": [
    "We see that there are multiple rows for certain user IDs. Since we don't aim to omit any data, we merely combine the data on the basis of their User IDs and their group type."
   ],
   "metadata": {
    "collapsed": false
   }
  },
  {
   "cell_type": "code",
   "execution_count": 7,
   "outputs": [
    {
     "data": {
      "text/plain": "(7865, 3)"
     },
     "execution_count": 7,
     "metadata": {},
     "output_type": "execute_result"
    }
   ],
   "source": [
    "final_df = df.groupby(['USER_ID', 'VARIANT_NAME'])['REVENUE'].apply(np.sum).reset_index().sort_values(by='USER_ID')\n",
    "final_df.shape"
   ],
   "metadata": {
    "collapsed": false
   }
  },
  {
   "cell_type": "markdown",
   "source": [
    "We managed to reduce the size of the dataset from 10,000 to 7,865. This means that quite a few users were also part of both groups."
   ],
   "metadata": {
    "collapsed": false
   }
  },
  {
   "cell_type": "code",
   "execution_count": 8,
   "outputs": [],
   "source": [
    "df_control = final_df.loc[final_df['VARIANT_NAME'] == 'control']\n",
    "df_variant = final_df.loc[final_df['VARIANT_NAME'] == 'variant']"
   ],
   "metadata": {
    "collapsed": false
   }
  },
  {
   "cell_type": "code",
   "execution_count": 9,
   "outputs": [
    {
     "data": {
      "text/plain": "(3931, 3)"
     },
     "execution_count": 9,
     "metadata": {},
     "output_type": "execute_result"
    }
   ],
   "source": [
    "df_control.shape"
   ],
   "metadata": {
    "collapsed": false
   }
  },
  {
   "cell_type": "code",
   "execution_count": 10,
   "outputs": [
    {
     "data": {
      "text/plain": "(3934, 3)"
     },
     "execution_count": 10,
     "metadata": {},
     "output_type": "execute_result"
    }
   ],
   "source": [
    "df_variant.shape"
   ],
   "metadata": {
    "collapsed": false
   }
  },
  {
   "cell_type": "code",
   "execution_count": 11,
   "outputs": [
    {
     "data": {
      "text/plain": "[<matplotlib.lines.Line2D at 0x172f6b38f10>]"
     },
     "execution_count": 11,
     "metadata": {},
     "output_type": "execute_result"
    },
    {
     "data": {
      "text/plain": "<Figure size 640x480 with 1 Axes>",
      "image/png": "[encoded data removed]"
     },
     "metadata": {},
     "output_type": "display_data"
    }
   ],
   "source": [
    "plt.plot(df_control[\"REVENUE\"])"
   ],
   "metadata": {
    "collapsed": false
   }
  },
  {
   "cell_type": "code",
   "execution_count": 12,
   "outputs": [
    {
     "data": {
      "text/plain": "[<matplotlib.lines.Line2D at 0x172f8d24940>]"
     },
     "execution_count": 12,
     "metadata": {},
     "output_type": "execute_result"
    },
    {
     "data": {
      "text/plain": "<Figure size 640x480 with 1 Axes>",
      "image/png": "[encoded data removed]"
     },
     "metadata": {},
     "output_type": "display_data"
    }
   ],
   "source": [
    "plt.plot(df_variant[\"REVENUE\"])"
   ],
   "metadata": {
    "collapsed": false
   }
  },
  {
   "cell_type": "markdown",
   "source": [
    "Both the control and variant groups, with close to 4000 data points each, can be said to approximately follow the Gaussian Distribution (by the Central Limit Theorem). As a result, we can try to identify the results of the experiment using a t-test."
   ],
   "metadata": {
    "collapsed": false
   }
  },
  {
   "cell_type": "code",
   "execution_count": 13,
   "outputs": [
    {
     "data": {
      "text/plain": "count    3931.000000\nmean        0.163572\nstd         3.385721\nmin         0.000000\n25%         0.000000\n50%         0.000000\n75%         0.000000\nmax       196.010000\nName: REVENUE, dtype: float64"
     },
     "execution_count": 13,
     "metadata": {},
     "output_type": "execute_result"
    }
   ],
   "source": [
    "#We don't care about user ID, so we describe only the revenue.\n",
    "df_control.describe()[\"REVENUE\"]"
   ],
   "metadata": {
    "collapsed": false
   }
  },
  {
   "cell_type": "code",
   "execution_count": 14,
   "outputs": [
    {
     "data": {
      "text/plain": "count    3934.000000\nmean        0.089342\nstd         1.484566\nmin         0.000000\n25%         0.000000\n50%         0.000000\n75%         0.000000\nmax        58.630000\nName: REVENUE, dtype: float64"
     },
     "execution_count": 14,
     "metadata": {},
     "output_type": "execute_result"
    }
   ],
   "source": [
    "df_variant.describe()[\"REVENUE\"]"
   ],
   "metadata": {
    "collapsed": false
   }
  },
  {
   "cell_type": "code",
   "execution_count": 15,
   "outputs": [],
   "source": [
    "control_rev = df_control[\"REVENUE\"]\n",
    "variant_rev = df_variant[\"REVENUE\"]"
   ],
   "metadata": {
    "collapsed": false
   }
  },
  {
   "cell_type": "code",
   "execution_count": 16,
   "outputs": [
    {
     "name": "stdout",
     "output_type": "stream",
     "text": [
      "11.460192891017975 2.2033749351397702\n"
     ]
    }
   ],
   "source": [
    "print(np.var(control_rev), np.var(variant_rev))"
   ],
   "metadata": {
    "collapsed": false
   }
  },
  {
   "cell_type": "markdown",
   "source": [
    "We can see that the variances of both of these groups have a ratio of 11:2 (Approximately 5.5:1). As a result, Student's t-test cannot be applied to this dataset. We use Welch's two-sample hypothesis t-test testing the following hypotheses:\n",
    "H<sub>0</sub>: There is no significance difference in the sample means of both the test groups\n",
    "H<sub>1</sub>: There is a significance difference in the sample means of both the test groups\n",
    "We assume a significance interval of 5%."
   ],
   "metadata": {
    "collapsed": false
   }
  },
  {
   "cell_type": "code",
   "execution_count": 17,
   "outputs": [],
   "source": [
    "result = stats.ttest_ind(control_rev, variant_rev, equal_var=False)"
   ],
   "metadata": {
    "collapsed": false
   }
  },
  {
   "cell_type": "code",
   "execution_count": 18,
   "outputs": [
    {
     "data": {
      "text/plain": "Ttest_indResult(statistic=1.2589840631023705, pvalue=0.20809064618700338)"
     },
     "execution_count": 18,
     "metadata": {},
     "output_type": "execute_result"
    }
   ],
   "source": [
    "result"
   ],
   "metadata": {
    "collapsed": false
   }
  },
  {
   "cell_type": "markdown",
   "source": [
    "We can see that the p-value of the above test is 0.2, which is greater than our assumed significance interval of 0.05. Due to the robustness of the Welch t-test when it comes to Type I errors, we can accept the null hypothesis and conclude that there is a lack of significant revenue increase with the newer revenue system. However, nothing can be concluded on the effectiveness of the new system in a vacuum and any judgement should be not be taken until further data is available."
   ],
   "metadata": {
    "collapsed": false
   }
  }
 ],
 "metadata": {
  "kernelspec": {
   "display_name": "Python 3",
   "language": "python",
   "name": "python3"
  },
  "language_info": {
   "codemirror_mode": {
    "name": "ipython",
    "version": 2
   },
   "file_extension": ".py",
   "mimetype": "text/x-python",
   "name": "python",
   "nbconvert_exporter": "python",
   "pygments_lexer": "ipython2",
   "version": "2.7.6"
  }
 },
 "nbformat": 4,
 "nbformat_minor": 0
}
